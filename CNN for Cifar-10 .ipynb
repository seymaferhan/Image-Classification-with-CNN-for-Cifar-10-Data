{
 "cells": [
  {
   "cell_type": "markdown",
   "id": "ee55b103",
   "metadata": {},
   "source": [
    "## Image Classification with CNN for Cifar-10 Data"
   ]
  },
  {
   "cell_type": "raw",
   "id": "03066fc1",
   "metadata": {},
   "source": [
    "Bu projemizde Cifar10 datasını indiriyoruz.Kaç satır ve sütun olduğuna bakıyoruz.Birkaç tane resmi okutuyoruz.Daha sonrasında keras modellerini kullanarak verimizi eğitiyoruz.Başarı oranı biraz düşük geliyor.Birkaç katman daha ekleyip tekrar çalıştırıyoruz.Böylece modelimizin resimleri yüzde kaç oranında doğru tahmin ettiğini görüyoruz.\n",
    "\n",
    "Cifar-10 resim dataseti sınıf başına 6000 resim olmak üzere 10 sınıfta 60000 adet 32x32 renkli resimden oluşur. 50000 eğitim resmi ve 10000 test resmi vardır.Veri seti, her biri 10000 resim içeren beş eğitim grubuna ve bir test grubuna ayrılmıştır. Test grubu, her sınıftan tam olarak 1000 rastgele seçilmiş resim içerir.(Ayrıyaten Cifar-100 adlı bir datasette var.O da 100 tane sınıf içeriyor.)\n",
    "\n",
    "Veri setindeki sınıflar aşağıdaki resimdeki gibidir."
   ]
  },
  {
   "cell_type": "markdown",
   "id": "735c36a4",
   "metadata": {},
   "source": [
    "<img src='cifar.jpg' width=500>"
   ]
  },
  {
   "cell_type": "code",
   "execution_count": 1,
   "id": "f10136f0",
   "metadata": {},
   "outputs": [],
   "source": [
    "#Paketleri Yükleme"
   ]
  },
  {
   "cell_type": "code",
   "execution_count": 2,
   "id": "35c17f7c",
   "metadata": {},
   "outputs": [],
   "source": [
    "import tensorflow as tf\n",
    "from tensorflow.keras.datasets import cifar10\n",
    "import matplotlib.pyplot as plt\n",
    "import warnings\n",
    "warnings.filterwarnings('ignore')"
   ]
  },
  {
   "cell_type": "code",
   "execution_count": 3,
   "id": "1465b726",
   "metadata": {},
   "outputs": [],
   "source": [
    "(x_train, y_train), (x_test, y_test) = cifar10.load_data()"
   ]
  },
  {
   "cell_type": "code",
   "execution_count": 4,
   "id": "74481743",
   "metadata": {},
   "outputs": [
    {
     "data": {
      "text/plain": [
       "(50000, 32, 32, 3)"
      ]
     },
     "execution_count": 4,
     "metadata": {},
     "output_type": "execute_result"
    }
   ],
   "source": [
    "x_train.shape"
   ]
  },
  {
   "cell_type": "code",
   "execution_count": 5,
   "id": "30bab62a",
   "metadata": {},
   "outputs": [
    {
     "data": {
      "text/plain": [
       "(50000, 1)"
      ]
     },
     "execution_count": 5,
     "metadata": {},
     "output_type": "execute_result"
    }
   ],
   "source": [
    "y_train.shape"
   ]
  },
  {
   "cell_type": "code",
   "execution_count": 6,
   "id": "0d7562c8",
   "metadata": {},
   "outputs": [
    {
     "data": {
      "text/plain": [
       "(10000, 32, 32, 3)"
      ]
     },
     "execution_count": 6,
     "metadata": {},
     "output_type": "execute_result"
    }
   ],
   "source": [
    "x_test.shape"
   ]
  },
  {
   "cell_type": "code",
   "execution_count": 7,
   "id": "2ddf559c",
   "metadata": {},
   "outputs": [
    {
     "data": {
      "text/plain": [
       "(10000, 1)"
      ]
     },
     "execution_count": 7,
     "metadata": {},
     "output_type": "execute_result"
    }
   ],
   "source": [
    "y_test.shape"
   ]
  },
  {
   "cell_type": "code",
   "execution_count": 8,
   "id": "851079cf",
   "metadata": {},
   "outputs": [
    {
     "data": {
      "image/png": "[encoded data removed]",
      "text/plain": [
       "<Figure size 640x480 with 1 Axes>"
      ]
     },
     "metadata": {},
     "output_type": "display_data"
    }
   ],
   "source": [
    "plt.imshow(x_train[15],cmap='gray');\n",
    "#Bu bir kamyon"
   ]
  },
  {
   "cell_type": "code",
   "execution_count": 9,
   "id": "81752cca",
   "metadata": {
    "scrolled": true
   },
   "outputs": [
    {
     "data": {
      "image/png": "[encoded data removed]",
      "text/plain": [
       "<Figure size 640x480 with 1 Axes>"
      ]
     },
     "metadata": {},
     "output_type": "display_data"
    }
   ],
   "source": [
    "plt.imshow(x_train[156],cmap='gray');\n",
    "#Bu da bir köpek"
   ]
  },
  {
   "cell_type": "code",
   "execution_count": 10,
   "id": "a483b8c6",
   "metadata": {},
   "outputs": [
    {
     "data": {
      "text/plain": [
       "(10000, 32, 32, 3)"
      ]
     },
     "execution_count": 10,
     "metadata": {},
     "output_type": "execute_result"
    }
   ],
   "source": [
    "x_test.shape"
   ]
  },
  {
   "cell_type": "code",
   "execution_count": 11,
   "id": "4e7b2aeb",
   "metadata": {},
   "outputs": [],
   "source": [
    "x_train=x_train/255.0\n",
    "x_test=x_test/255.0\n",
    "#Resimleri normalize ediyoruz."
   ]
  },
  {
   "cell_type": "code",
   "execution_count": 12,
   "id": "e9341433",
   "metadata": {},
   "outputs": [
    {
     "data": {
      "text/plain": [
       "(50000, 32, 32, 3)"
      ]
     },
     "execution_count": 12,
     "metadata": {},
     "output_type": "execute_result"
    }
   ],
   "source": [
    "x_train.shape"
   ]
  },
  {
   "cell_type": "code",
   "execution_count": 13,
   "id": "6713ec19",
   "metadata": {},
   "outputs": [
    {
     "data": {
      "text/plain": [
       "(10000, 32, 32, 3)"
      ]
     },
     "execution_count": 13,
     "metadata": {},
     "output_type": "execute_result"
    }
   ],
   "source": [
    "x_test.shape"
   ]
  },
  {
   "cell_type": "code",
   "execution_count": 14,
   "id": "ff5fc481",
   "metadata": {},
   "outputs": [],
   "source": [
    "from tensorflow.keras.models import Sequential\n",
    "from tensorflow.keras.layers import Dense, Conv2D, InputLayer, Reshape, MaxPooling2D, Flatten, Dropout, BatchNormalization"
   ]
  },
  {
   "cell_type": "code",
   "execution_count": 15,
   "id": "7454c1d2",
   "metadata": {},
   "outputs": [],
   "source": [
    "model=Sequential()\n",
    "model.add(InputLayer(input_shape=(32,32,3))) #resmin boyutlarını 32,32 istiyor.Input shape olarak veriyoruz.\n",
    "model.add(Reshape(target_shape=(32,32,3))) \n",
    "model.add(Conv2D(filters=12,kernel_size=(3,3),activation='relu')) \n",
    "model.add(MaxPooling2D(pool_size=(2,2)))   \n",
    "model.add(Flatten())\n",
    "model.add(Dense(10)) \n",
    "model.compile(optimizer='adam', loss=tf.keras.losses.SparseCategoricalCrossentropy(from_logits=True),metrics=['accuracy'])"
   ]
  },
  {
   "cell_type": "code",
   "execution_count": 16,
   "id": "42413268",
   "metadata": {
    "scrolled": true
   },
   "outputs": [
    {
     "name": "stdout",
     "output_type": "stream",
     "text": [
      "Epoch 1/20\n",
      "\u001b[1m889/889\u001b[0m \u001b[32m━━━━━━━━━━━━━━━━━━━━\u001b[0m\u001b[37m\u001b[0m \u001b[1m8s\u001b[0m 7ms/step - accuracy: 0.3449 - loss: 1.8405 - val_accuracy: 0.5142 - val_loss: 1.4146\n",
      "Epoch 2/20\n",
      "\u001b[1m889/889\u001b[0m \u001b[32m━━━━━━━━━━━━━━━━━━━━\u001b[0m\u001b[37m\u001b[0m \u001b[1m8s\u001b[0m 9ms/step - accuracy: 0.5262 - loss: 1.3591 - val_accuracy: 0.5475 - val_loss: 1.3149\n",
      "Epoch 3/20\n",
      "\u001b[1m889/889\u001b[0m \u001b[32m━━━━━━━━━━━━━━━━━━━━\u001b[0m\u001b[37m\u001b[0m \u001b[1m12s\u001b[0m 10ms/step - accuracy: 0.5630 - loss: 1.2613 - val_accuracy: 0.5631 - val_loss: 1.2570\n",
      "Epoch 4/20\n",
      "\u001b[1m889/889\u001b[0m \u001b[32m━━━━━━━━━━━━━━━━━━━━\u001b[0m\u001b[37m\u001b[0m \u001b[1m11s\u001b[0m 11ms/step - accuracy: 0.5856 - loss: 1.1985 - val_accuracy: 0.5736 - val_loss: 1.2299\n",
      "Epoch 5/20\n",
      "\u001b[1m889/889\u001b[0m \u001b[32m━━━━━━━━━━━━━━━━━━━━\u001b[0m\u001b[37m\u001b[0m \u001b[1m10s\u001b[0m 11ms/step - accuracy: 0.6034 - loss: 1.1479 - val_accuracy: 0.5726 - val_loss: 1.2342\n",
      "Epoch 6/20\n",
      "\u001b[1m889/889\u001b[0m \u001b[32m━━━━━━━━━━━━━━━━━━━━\u001b[0m\u001b[37m\u001b[0m \u001b[1m9s\u001b[0m 10ms/step - accuracy: 0.6114 - loss: 1.1297 - val_accuracy: 0.5765 - val_loss: 1.2256\n",
      "Epoch 7/20\n",
      "\u001b[1m889/889\u001b[0m \u001b[32m━━━━━━━━━━━━━━━━━━━━\u001b[0m\u001b[37m\u001b[0m \u001b[1m11s\u001b[0m 11ms/step - accuracy: 0.6227 - loss: 1.0900 - val_accuracy: 0.5792 - val_loss: 1.2209\n",
      "Epoch 8/20\n",
      "\u001b[1m889/889\u001b[0m \u001b[32m━━━━━━━━━━━━━━━━━━━━\u001b[0m\u001b[37m\u001b[0m \u001b[1m10s\u001b[0m 11ms/step - accuracy: 0.6299 - loss: 1.0752 - val_accuracy: 0.5835 - val_loss: 1.2004\n",
      "Epoch 9/20\n",
      "\u001b[1m889/889\u001b[0m \u001b[32m━━━━━━━━━━━━━━━━━━━━\u001b[0m\u001b[37m\u001b[0m \u001b[1m10s\u001b[0m 11ms/step - accuracy: 0.6353 - loss: 1.0609 - val_accuracy: 0.5903 - val_loss: 1.1960\n",
      "Epoch 10/20\n",
      "\u001b[1m889/889\u001b[0m \u001b[32m━━━━━━━━━━━━━━━━━━━━\u001b[0m\u001b[37m\u001b[0m \u001b[1m9s\u001b[0m 9ms/step - accuracy: 0.6346 - loss: 1.0495 - val_accuracy: 0.5804 - val_loss: 1.2074\n",
      "Epoch 11/20\n",
      "\u001b[1m889/889\u001b[0m \u001b[32m━━━━━━━━━━━━━━━━━━━━\u001b[0m\u001b[37m\u001b[0m \u001b[1m9s\u001b[0m 8ms/step - accuracy: 0.6435 - loss: 1.0326 - val_accuracy: 0.5950 - val_loss: 1.1724\n",
      "Epoch 12/20\n",
      "\u001b[1m889/889\u001b[0m \u001b[32m━━━━━━━━━━━━━━━━━━━━\u001b[0m\u001b[37m\u001b[0m \u001b[1m13s\u001b[0m 11ms/step - accuracy: 0.6464 - loss: 1.0252 - val_accuracy: 0.6016 - val_loss: 1.1725\n",
      "Epoch 13/20\n",
      "\u001b[1m889/889\u001b[0m \u001b[32m━━━━━━━━━━━━━━━━━━━━\u001b[0m\u001b[37m\u001b[0m \u001b[1m10s\u001b[0m 11ms/step - accuracy: 0.6532 - loss: 0.9984 - val_accuracy: 0.5964 - val_loss: 1.1821\n",
      "Epoch 14/20\n",
      "\u001b[1m889/889\u001b[0m \u001b[32m━━━━━━━━━━━━━━━━━━━━\u001b[0m\u001b[37m\u001b[0m \u001b[1m9s\u001b[0m 10ms/step - accuracy: 0.6577 - loss: 0.9957 - val_accuracy: 0.5912 - val_loss: 1.1866\n",
      "Epoch 15/20\n",
      "\u001b[1m889/889\u001b[0m \u001b[32m━━━━━━━━━━━━━━━━━━━━\u001b[0m\u001b[37m\u001b[0m \u001b[1m10s\u001b[0m 10ms/step - accuracy: 0.6593 - loss: 0.9815 - val_accuracy: 0.5949 - val_loss: 1.1736\n",
      "Epoch 16/20\n",
      "\u001b[1m889/889\u001b[0m \u001b[32m━━━━━━━━━━━━━━━━━━━━\u001b[0m\u001b[37m\u001b[0m \u001b[1m9s\u001b[0m 10ms/step - accuracy: 0.6650 - loss: 0.9764 - val_accuracy: 0.5930 - val_loss: 1.1761\n",
      "Epoch 17/20\n",
      "\u001b[1m889/889\u001b[0m \u001b[32m━━━━━━━━━━━━━━━━━━━━\u001b[0m\u001b[37m\u001b[0m \u001b[1m7s\u001b[0m 8ms/step - accuracy: 0.6722 - loss: 0.9630 - val_accuracy: 0.5986 - val_loss: 1.1773\n",
      "Epoch 18/20\n",
      "\u001b[1m889/889\u001b[0m \u001b[32m━━━━━━━━━━━━━━━━━━━━\u001b[0m\u001b[37m\u001b[0m \u001b[1m7s\u001b[0m 8ms/step - accuracy: 0.6725 - loss: 0.9602 - val_accuracy: 0.5852 - val_loss: 1.2293\n",
      "Epoch 19/20\n",
      "\u001b[1m889/889\u001b[0m \u001b[32m━━━━━━━━━━━━━━━━━━━━\u001b[0m\u001b[37m\u001b[0m \u001b[1m12s\u001b[0m 11ms/step - accuracy: 0.6736 - loss: 0.9490 - val_accuracy: 0.5974 - val_loss: 1.1688\n",
      "Epoch 20/20\n",
      "\u001b[1m889/889\u001b[0m \u001b[32m━━━━━━━━━━━━━━━━━━━━\u001b[0m\u001b[37m\u001b[0m \u001b[1m10s\u001b[0m 10ms/step - accuracy: 0.6783 - loss: 0.9402 - val_accuracy: 0.5959 - val_loss: 1.1849\n"
     ]
    },
    {
     "data": {
      "text/plain": [
       "<keras.src.callbacks.history.History at 0x242733fb050>"
      ]
     },
     "execution_count": 16,
     "metadata": {},
     "output_type": "execute_result"
    }
   ],
   "source": [
    "model.fit(x_train,y_train, validation_split=.20, epochs=20,batch_size=45,verbose=1)"
   ]
  },
  {
   "cell_type": "code",
   "execution_count": 17,
   "id": "b7773bf1",
   "metadata": {},
   "outputs": [
    {
     "name": "stdout",
     "output_type": "stream",
     "text": [
      "\u001b[1m313/313\u001b[0m \u001b[32m━━━━━━━━━━━━━━━━━━━━\u001b[0m\u001b[37m\u001b[0m \u001b[1m1s\u001b[0m 2ms/step - accuracy: 0.6031 - loss: 1.1721\n"
     ]
    }
   ],
   "source": [
    "loss,accuracy=model.evaluate(x_test, y_test)"
   ]
  },
  {
   "cell_type": "code",
   "execution_count": 18,
   "id": "ce798e8c",
   "metadata": {},
   "outputs": [],
   "source": [
    "#Modelimizi tekrar eğitiyoruz."
   ]
  },
  {
   "cell_type": "code",
   "execution_count": 19,
   "id": "45318178",
   "metadata": {},
   "outputs": [],
   "source": [
    "model=Sequential()\n",
    "model.add(InputLayer(input_shape=(32,32,3))) \n",
    "model.add(Reshape(target_shape=(32,32,3))) \n",
    "model.add(BatchNormalization())\n",
    "model.add(Conv2D(filters=12,kernel_size=(3,3),activation='relu')) \n",
    "model.add(MaxPooling2D(pool_size=(2,2)))   \n",
    "model.add(Flatten())\n",
    "model.add(BatchNormalization())\n",
    "model.add(Dense(60)) \n",
    "model.add(Dropout(.25))\n",
    "model.add(BatchNormalization())\n",
    "model.add(Dense(10))\n",
    "model.compile(optimizer='adam', loss=tf.keras.losses.SparseCategoricalCrossentropy(from_logits=True),metrics=['accuracy'])"
   ]
  },
  {
   "cell_type": "code",
   "execution_count": 20,
   "id": "0dbb0d75",
   "metadata": {
    "scrolled": true
   },
   "outputs": [
    {
     "name": "stdout",
     "output_type": "stream",
     "text": [
      "Epoch 1/40\n",
      "\u001b[1m889/889\u001b[0m \u001b[32m━━━━━━━━━━━━━━━━━━━━\u001b[0m\u001b[37m\u001b[0m \u001b[1m18s\u001b[0m 15ms/step - accuracy: 0.3985 - loss: 1.7266 - val_accuracy: 0.5472 - val_loss: 1.2836\n",
      "Epoch 2/40\n",
      "\u001b[1m889/889\u001b[0m \u001b[32m━━━━━━━━━━━━━━━━━━━━\u001b[0m\u001b[37m\u001b[0m \u001b[1m20s\u001b[0m 15ms/step - accuracy: 0.5441 - loss: 1.3013 - val_accuracy: 0.5628 - val_loss: 1.2330\n",
      "Epoch 3/40\n",
      "\u001b[1m889/889\u001b[0m \u001b[32m━━━━━━━━━━━━━━━━━━━━\u001b[0m\u001b[37m\u001b[0m \u001b[1m16s\u001b[0m 18ms/step - accuracy: 0.5785 - loss: 1.1950 - val_accuracy: 0.5818 - val_loss: 1.1867\n",
      "Epoch 4/40\n",
      "\u001b[1m889/889\u001b[0m \u001b[32m━━━━━━━━━━━━━━━━━━━━\u001b[0m\u001b[37m\u001b[0m \u001b[1m20s\u001b[0m 18ms/step - accuracy: 0.6040 - loss: 1.1405 - val_accuracy: 0.5880 - val_loss: 1.1651\n",
      "Epoch 5/40\n",
      "\u001b[1m889/889\u001b[0m \u001b[32m━━━━━━━━━━━━━━━━━━━━\u001b[0m\u001b[37m\u001b[0m \u001b[1m21s\u001b[0m 19ms/step - accuracy: 0.6180 - loss: 1.0944 - val_accuracy: 0.6055 - val_loss: 1.1309\n",
      "Epoch 6/40\n",
      "\u001b[1m889/889\u001b[0m \u001b[32m━━━━━━━━━━━━━━━━━━━━\u001b[0m\u001b[37m\u001b[0m \u001b[1m16s\u001b[0m 18ms/step - accuracy: 0.6357 - loss: 1.0495 - val_accuracy: 0.6158 - val_loss: 1.1138\n",
      "Epoch 7/40\n",
      "\u001b[1m889/889\u001b[0m \u001b[32m━━━━━━━━━━━━━━━━━━━━\u001b[0m\u001b[37m\u001b[0m \u001b[1m21s\u001b[0m 18ms/step - accuracy: 0.6434 - loss: 1.0312 - val_accuracy: 0.6150 - val_loss: 1.1058\n",
      "Epoch 8/40\n",
      "\u001b[1m889/889\u001b[0m \u001b[32m━━━━━━━━━━━━━━━━━━━━\u001b[0m\u001b[37m\u001b[0m \u001b[1m19s\u001b[0m 17ms/step - accuracy: 0.6507 - loss: 1.0055 - val_accuracy: 0.6144 - val_loss: 1.1140\n",
      "Epoch 9/40\n",
      "\u001b[1m889/889\u001b[0m \u001b[32m━━━━━━━━━━━━━━━━━━━━\u001b[0m\u001b[37m\u001b[0m \u001b[1m22s\u001b[0m 18ms/step - accuracy: 0.6576 - loss: 0.9915 - val_accuracy: 0.6180 - val_loss: 1.1047\n",
      "Epoch 10/40\n",
      "\u001b[1m889/889\u001b[0m \u001b[32m━━━━━━━━━━━━━━━━━━━━\u001b[0m\u001b[37m\u001b[0m \u001b[1m21s\u001b[0m 18ms/step - accuracy: 0.6573 - loss: 0.9857 - val_accuracy: 0.6162 - val_loss: 1.1093\n",
      "Epoch 11/40\n",
      "\u001b[1m889/889\u001b[0m \u001b[32m━━━━━━━━━━━━━━━━━━━━\u001b[0m\u001b[37m\u001b[0m \u001b[1m15s\u001b[0m 17ms/step - accuracy: 0.6619 - loss: 0.9772 - val_accuracy: 0.6148 - val_loss: 1.1324\n",
      "Epoch 12/40\n",
      "\u001b[1m889/889\u001b[0m \u001b[32m━━━━━━━━━━━━━━━━━━━━\u001b[0m\u001b[37m\u001b[0m \u001b[1m22s\u001b[0m 18ms/step - accuracy: 0.6635 - loss: 0.9650 - val_accuracy: 0.6230 - val_loss: 1.1011\n",
      "Epoch 13/40\n",
      "\u001b[1m889/889\u001b[0m \u001b[32m━━━━━━━━━━━━━━━━━━━━\u001b[0m\u001b[37m\u001b[0m \u001b[1m20s\u001b[0m 18ms/step - accuracy: 0.6700 - loss: 0.9486 - val_accuracy: 0.6171 - val_loss: 1.1001\n",
      "Epoch 14/40\n",
      "\u001b[1m889/889\u001b[0m \u001b[32m━━━━━━━━━━━━━━━━━━━━\u001b[0m\u001b[37m\u001b[0m \u001b[1m14s\u001b[0m 15ms/step - accuracy: 0.6680 - loss: 0.9527 - val_accuracy: 0.6172 - val_loss: 1.1107\n",
      "Epoch 15/40\n",
      "\u001b[1m889/889\u001b[0m \u001b[32m━━━━━━━━━━━━━━━━━━━━\u001b[0m\u001b[37m\u001b[0m \u001b[1m20s\u001b[0m 15ms/step - accuracy: 0.6705 - loss: 0.9481 - val_accuracy: 0.6111 - val_loss: 1.1373\n",
      "Epoch 16/40\n",
      "\u001b[1m889/889\u001b[0m \u001b[32m━━━━━━━━━━━━━━━━━━━━\u001b[0m\u001b[37m\u001b[0m \u001b[1m23s\u001b[0m 18ms/step - accuracy: 0.6711 - loss: 0.9452 - val_accuracy: 0.6112 - val_loss: 1.1331\n",
      "Epoch 17/40\n",
      "\u001b[1m889/889\u001b[0m \u001b[32m━━━━━━━━━━━━━━━━━━━━\u001b[0m\u001b[37m\u001b[0m \u001b[1m21s\u001b[0m 18ms/step - accuracy: 0.6760 - loss: 0.9347 - val_accuracy: 0.6284 - val_loss: 1.1021\n",
      "Epoch 18/40\n",
      "\u001b[1m889/889\u001b[0m \u001b[32m━━━━━━━━━━━━━━━━━━━━\u001b[0m\u001b[37m\u001b[0m \u001b[1m20s\u001b[0m 17ms/step - accuracy: 0.6848 - loss: 0.9170 - val_accuracy: 0.6205 - val_loss: 1.1101\n",
      "Epoch 19/40\n",
      "\u001b[1m889/889\u001b[0m \u001b[32m━━━━━━━━━━━━━━━━━━━━\u001b[0m\u001b[37m\u001b[0m \u001b[1m20s\u001b[0m 16ms/step - accuracy: 0.6835 - loss: 0.9192 - val_accuracy: 0.6212 - val_loss: 1.1071\n",
      "Epoch 20/40\n",
      "\u001b[1m889/889\u001b[0m \u001b[32m━━━━━━━━━━━━━━━━━━━━\u001b[0m\u001b[37m\u001b[0m \u001b[1m19s\u001b[0m 15ms/step - accuracy: 0.6825 - loss: 0.9098 - val_accuracy: 0.6221 - val_loss: 1.1160\n",
      "Epoch 21/40\n",
      "\u001b[1m889/889\u001b[0m \u001b[32m━━━━━━━━━━━━━━━━━━━━\u001b[0m\u001b[37m\u001b[0m \u001b[1m15s\u001b[0m 17ms/step - accuracy: 0.6840 - loss: 0.9128 - val_accuracy: 0.6238 - val_loss: 1.1169\n",
      "Epoch 22/40\n",
      "\u001b[1m889/889\u001b[0m \u001b[32m━━━━━━━━━━━━━━━━━━━━\u001b[0m\u001b[37m\u001b[0m \u001b[1m21s\u001b[0m 17ms/step - accuracy: 0.6859 - loss: 0.9077 - val_accuracy: 0.6131 - val_loss: 1.1213\n",
      "Epoch 23/40\n",
      "\u001b[1m889/889\u001b[0m \u001b[32m━━━━━━━━━━━━━━━━━━━━\u001b[0m\u001b[37m\u001b[0m \u001b[1m21s\u001b[0m 17ms/step - accuracy: 0.6922 - loss: 0.8948 - val_accuracy: 0.6173 - val_loss: 1.1249\n",
      "Epoch 24/40\n",
      "\u001b[1m889/889\u001b[0m \u001b[32m━━━━━━━━━━━━━━━━━━━━\u001b[0m\u001b[37m\u001b[0m \u001b[1m20s\u001b[0m 17ms/step - accuracy: 0.6863 - loss: 0.8962 - val_accuracy: 0.6207 - val_loss: 1.1279\n",
      "Epoch 25/40\n",
      "\u001b[1m889/889\u001b[0m \u001b[32m━━━━━━━━━━━━━━━━━━━━\u001b[0m\u001b[37m\u001b[0m \u001b[1m15s\u001b[0m 17ms/step - accuracy: 0.6844 - loss: 0.9000 - val_accuracy: 0.6164 - val_loss: 1.1379\n",
      "Epoch 26/40\n",
      "\u001b[1m889/889\u001b[0m \u001b[32m━━━━━━━━━━━━━━━━━━━━\u001b[0m\u001b[37m\u001b[0m \u001b[1m15s\u001b[0m 17ms/step - accuracy: 0.6895 - loss: 0.8918 - val_accuracy: 0.6162 - val_loss: 1.1425\n",
      "Epoch 27/40\n",
      "\u001b[1m889/889\u001b[0m \u001b[32m━━━━━━━━━━━━━━━━━━━━\u001b[0m\u001b[37m\u001b[0m \u001b[1m18s\u001b[0m 15ms/step - accuracy: 0.6897 - loss: 0.8888 - val_accuracy: 0.6247 - val_loss: 1.1227\n",
      "Epoch 28/40\n",
      "\u001b[1m889/889\u001b[0m \u001b[32m━━━━━━━━━━━━━━━━━━━━\u001b[0m\u001b[37m\u001b[0m \u001b[1m15s\u001b[0m 17ms/step - accuracy: 0.6902 - loss: 0.8900 - val_accuracy: 0.6210 - val_loss: 1.1278\n",
      "Epoch 29/40\n",
      "\u001b[1m889/889\u001b[0m \u001b[32m━━━━━━━━━━━━━━━━━━━━\u001b[0m\u001b[37m\u001b[0m \u001b[1m21s\u001b[0m 17ms/step - accuracy: 0.6925 - loss: 0.8856 - val_accuracy: 0.6173 - val_loss: 1.1345\n",
      "Epoch 30/40\n",
      "\u001b[1m889/889\u001b[0m \u001b[32m━━━━━━━━━━━━━━━━━━━━\u001b[0m\u001b[37m\u001b[0m \u001b[1m19s\u001b[0m 15ms/step - accuracy: 0.6938 - loss: 0.8903 - val_accuracy: 0.6124 - val_loss: 1.1421\n",
      "Epoch 31/40\n",
      "\u001b[1m889/889\u001b[0m \u001b[32m━━━━━━━━━━━━━━━━━━━━\u001b[0m\u001b[37m\u001b[0m \u001b[1m15s\u001b[0m 17ms/step - accuracy: 0.6929 - loss: 0.8801 - val_accuracy: 0.6177 - val_loss: 1.1248\n",
      "Epoch 32/40\n",
      "\u001b[1m889/889\u001b[0m \u001b[32m━━━━━━━━━━━━━━━━━━━━\u001b[0m\u001b[37m\u001b[0m \u001b[1m21s\u001b[0m 17ms/step - accuracy: 0.6889 - loss: 0.8810 - val_accuracy: 0.6163 - val_loss: 1.1433\n",
      "Epoch 33/40\n",
      "\u001b[1m889/889\u001b[0m \u001b[32m━━━━━━━━━━━━━━━━━━━━\u001b[0m\u001b[37m\u001b[0m \u001b[1m14s\u001b[0m 16ms/step - accuracy: 0.6924 - loss: 0.8830 - val_accuracy: 0.6175 - val_loss: 1.1392\n",
      "Epoch 34/40\n",
      "\u001b[1m889/889\u001b[0m \u001b[32m━━━━━━━━━━━━━━━━━━━━\u001b[0m\u001b[37m\u001b[0m \u001b[1m14s\u001b[0m 15ms/step - accuracy: 0.7036 - loss: 0.8636 - val_accuracy: 0.6223 - val_loss: 1.1243\n",
      "Epoch 35/40\n",
      "\u001b[1m889/889\u001b[0m \u001b[32m━━━━━━━━━━━━━━━━━━━━\u001b[0m\u001b[37m\u001b[0m \u001b[1m20s\u001b[0m 15ms/step - accuracy: 0.6966 - loss: 0.8765 - val_accuracy: 0.6187 - val_loss: 1.1433\n",
      "Epoch 36/40\n",
      "\u001b[1m889/889\u001b[0m \u001b[32m━━━━━━━━━━━━━━━━━━━━\u001b[0m\u001b[37m\u001b[0m \u001b[1m21s\u001b[0m 15ms/step - accuracy: 0.6932 - loss: 0.8785 - val_accuracy: 0.6224 - val_loss: 1.1225\n",
      "Epoch 37/40\n",
      "\u001b[1m889/889\u001b[0m \u001b[32m━━━━━━━━━━━━━━━━━━━━\u001b[0m\u001b[37m\u001b[0m \u001b[1m15s\u001b[0m 16ms/step - accuracy: 0.6963 - loss: 0.8747 - val_accuracy: 0.6138 - val_loss: 1.1385\n",
      "Epoch 38/40\n",
      "\u001b[1m889/889\u001b[0m \u001b[32m━━━━━━━━━━━━━━━━━━━━\u001b[0m\u001b[37m\u001b[0m \u001b[1m21s\u001b[0m 17ms/step - accuracy: 0.7011 - loss: 0.8490 - val_accuracy: 0.6154 - val_loss: 1.1380\n",
      "Epoch 39/40\n",
      "\u001b[1m889/889\u001b[0m \u001b[32m━━━━━━━━━━━━━━━━━━━━\u001b[0m\u001b[37m\u001b[0m \u001b[1m20s\u001b[0m 17ms/step - accuracy: 0.6972 - loss: 0.8695 - val_accuracy: 0.6175 - val_loss: 1.1250\n",
      "Epoch 40/40\n",
      "\u001b[1m889/889\u001b[0m \u001b[32m━━━━━━━━━━━━━━━━━━━━\u001b[0m\u001b[37m\u001b[0m \u001b[1m14s\u001b[0m 16ms/step - accuracy: 0.6973 - loss: 0.8678 - val_accuracy: 0.6158 - val_loss: 1.1396\n"
     ]
    }
   ],
   "source": [
    "history=model.fit(x_train,y_train, validation_split=.20, epochs=40,batch_size=45,verbose=1)"
   ]
  },
  {
   "cell_type": "code",
   "execution_count": 21,
   "id": "236e2dfb",
   "metadata": {},
   "outputs": [
    {
     "name": "stdout",
     "output_type": "stream",
     "text": [
      "\u001b[1m313/313\u001b[0m \u001b[32m━━━━━━━━━━━━━━━━━━━━\u001b[0m\u001b[37m\u001b[0m \u001b[1m1s\u001b[0m 4ms/step - accuracy: 0.6170 - loss: 1.1343\n"
     ]
    }
   ],
   "source": [
    "loss,accuracy=model.evaluate(x_test, y_test)\n",
    "#Başarı oranımız biraz daha arttı."
   ]
  },
  {
   "cell_type": "code",
   "execution_count": 22,
   "id": "357034a4",
   "metadata": {},
   "outputs": [
    {
     "data": {
      "text/plain": [
       "<matplotlib.legend.Legend at 0x242f92418d0>"
      ]
     },
     "execution_count": 22,
     "metadata": {},
     "output_type": "execute_result"
    },
    {
     "data": {
      "image/png": "[encoded data removed]",
      "text/plain": [
       "<Figure size 640x480 with 1 Axes>"
      ]
     },
     "metadata": {},
     "output_type": "display_data"
    }
   ],
   "source": [
    "plt.plot(history.history['accuracy'],label='Accuracy') #Bizim eğitim için verdiğimiz data\n",
    "plt.plot(history.history['val_accuracy'],label='Val_Accuracy') #Bu da hiç görmediği data\n",
    "plt.legend()"
   ]
  },
  {
   "cell_type": "raw",
   "id": "cfe9cad5",
   "metadata": {},
   "source": [
    "Bu projede farklı bir resim dataseti indirerek nasıl modellemem gerektiğini öğrendim.Modelimize daha fazla katman ekleyerek ve epochs,batch_size gibi şeyleri yükselterek başarı oranımızı biraz daha fazla artırabiliyoruz.Yukarıdaki tabloya baktığımızda verdiğimiz train(yani eğitim)datalarını yüzde 70 civarında doğru tahmin etmiş.Ama test datasında yüzde 60 civarında tahmin etmiş.Bunu görüyoruz."
   ]
  }
 ],
 "metadata": {
  "kernelspec": {
   "display_name": "Python 3 (ipykernel)",
   "language": "python",
   "name": "python3"
  },
  "language_info": {
   "codemirror_mode": {
    "name": "ipython",
    "version": 3
   },
   "file_extension": ".py",
   "mimetype": "text/x-python",
   "name": "python",
   "nbconvert_exporter": "python",
   "pygments_lexer": "ipython3",
   "version": "3.11.7"
  }
 },
 "nbformat": 4,
 "nbformat_minor": 5
}
